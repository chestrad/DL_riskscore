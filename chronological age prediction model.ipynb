{
 "cells": [
  {
   "cell_type": "code",
   "execution_count": null,
   "id": "44116abe",
   "metadata": {},
   "outputs": [],
   "source": [
    "import openpyxl\n",
    "import os\n",
    "import numpy as np\n",
    "import scipy  \n",
    "import matplotlib.pyplot as plt \n",
    "import pandas as pd \n",
    "from sklearn import metrics\n",
    "import random\n",
    "import gc "
   ]
  },
  {
   "cell_type": "code",
   "execution_count": null,
   "id": "ef8d3da4",
   "metadata": {},
   "outputs": [],
   "source": [
    "import tensorflow as tf \n",
    "from tensorflow import keras\n",
    "from tensorflow.keras import layers\n",
    "from tensorflow.keras.models import load_model\n",
    "from tensorflow.keras.models import Sequential"
   ]
  },
  {
   "cell_type": "code",
   "execution_count": null,
   "id": "825e85cc",
   "metadata": {},
   "outputs": [],
   "source": [
    "chosen=\"B5\"  "
   ]
  },
  {
   "cell_type": "code",
   "execution_count": null,
   "id": "8aab6c74",
   "metadata": {},
   "outputs": [],
   "source": [
    "if chosen==\"B0\":\n",
    "    imagesize=224\n",
    "elif chosen==\"B1\":\n",
    "    imagesize=240\n",
    "elif chosen==\"B2\":\n",
    "    imagesie=260\n",
    "elif chosen==\"B3\":\n",
    "    imagesize=300\n",
    "elif chosen==\"B4\":\n",
    "    imagesize=380\n",
    "elif chosen==\"B5\":\n",
    "    imagesize=456\n",
    "elif chosen==\"B6\":\n",
    "    imagesize=528\n",
    "elif chosen==\"B7\":\n",
    "    imagesize=600"
   ]
  },
  {
   "cell_type": "code",
   "execution_count": null,
   "id": "15a9bc82",
   "metadata": {},
   "outputs": [],
   "source": [
    "date=20230417"
   ]
  },
  {
   "cell_type": "code",
   "execution_count": null,
   "id": "0c22d59c",
   "metadata": {},
   "outputs": [],
   "source": [
    "paths=['./result/%d/FFT'%(date),\n",
    "       './result/%d/FFT/bestmodel'%(date),\n",
    "       './result/%d/FFT/finalmodel'%(date),\n",
    "       './result/%d/bestmodel'%(date),\n",
    "       './result/%d/finalmodel'%(date)       \n",
    "      ]"
   ]
  },
  {
   "cell_type": "code",
   "execution_count": null,
   "id": "2bc1d039",
   "metadata": {},
   "outputs": [],
   "source": [
    "for path in paths:\n",
    "    os.makedirs(path)"
   ]
  },
  {
   "cell_type": "code",
   "execution_count": null,
   "id": "8b055021",
   "metadata": {},
   "outputs": [],
   "source": [
    "#loading lists of png files"
   ]
  },
  {
   "cell_type": "code",
   "execution_count": null,
   "id": "eb399fdd",
   "metadata": {
    "scrolled": true
   },
   "outputs": [],
   "source": [
    "train_ds = tf.data.Dataset.list_files('/home/hk/Research/CXRage/dataset0104/train/*.png', shuffle=False)  "
   ]
  },
  {
   "cell_type": "code",
   "execution_count": null,
   "id": "e5f00d94",
   "metadata": {},
   "outputs": [],
   "source": [
    "image_count1 = len(train_ds)\n",
    "train_ds = train_ds.shuffle(image_count1, reshuffle_each_iteration=False)  "
   ]
  },
  {
   "cell_type": "code",
   "execution_count": null,
   "id": "aae7d272",
   "metadata": {
    "scrolled": true
   },
   "outputs": [],
   "source": [
    "val_ds = tf.data.Dataset.list_files('/home/hk/Research/CXRage/dataset0104/val/*.png', shuffle=False)  "
   ]
  },
  {
   "cell_type": "code",
   "execution_count": null,
   "id": "098ac70c",
   "metadata": {},
   "outputs": [],
   "source": [
    "image_count2 = len(val_ds)\n",
    "val_ds = val_ds.shuffle(image_count2, reshuffle_each_iteration=False)  "
   ]
  },
  {
   "cell_type": "code",
   "execution_count": null,
   "id": "707ed57d",
   "metadata": {
    "scrolled": true
   },
   "outputs": [],
   "source": [
    "test_ds = tf.data.Dataset.list_files('/home/hk/Research/CXRage/dataset0104/test/*.png', shuffle=False)  "
   ]
  },
  {
   "cell_type": "code",
   "execution_count": null,
   "id": "84706b82",
   "metadata": {},
   "outputs": [],
   "source": [
    "image_count3 = len(test_ds)\n",
    "test_ds = test_ds.shuffle(image_count3, reshuffle_each_iteration=False)  "
   ]
  },
  {
   "cell_type": "code",
   "execution_count": null,
   "id": "c5876b15",
   "metadata": {},
   "outputs": [],
   "source": [
    "def load_image(filename, augment=False): \n",
    "    raw = tf.io.read_file(filename)\n",
    "    image = tf.image.decode_png(raw, channels=3)\n",
    "    \n",
    "    image.set_shape([512, 512, 3])  \n",
    "    image = tf.image.resize(image, [imagesize, imagesize]) \n",
    "    \n",
    "    if augment:\n",
    "        image = tf.image.random_brightness(image, max_delta=25)\n",
    "        image = tf.image.random_contrast(image, 0.7, 1.3)\n",
    "        image = tf.clip_by_value(image, 0, 255)        \n",
    "    return image "
   ]
  },
  {
   "cell_type": "code",
   "execution_count": null,
   "id": "e65f539c",
   "metadata": {},
   "outputs": [],
   "source": [
    "def get_label(filename):\n",
    "    label = tf.strings.split(filename, sep=\".\")[-2]\n",
    "    label = tf.strings.to_number(label, tf.float32)    \n",
    "    label = tf.math.subtract(label, 11)\n",
    "    label = tf.math.divide(label, 83)\n",
    "    label = tf.math.add(label, 0.0001)\n",
    "    return label"
   ]
  },
  {
   "cell_type": "code",
   "execution_count": null,
   "id": "8255becf",
   "metadata": {},
   "outputs": [],
   "source": [
    "def process_path_train(file_path):\n",
    "    label = get_label(file_path)\n",
    "    img = load_image(file_path, augment=True)\n",
    "    return img, label"
   ]
  },
  {
   "cell_type": "code",
   "execution_count": null,
   "id": "61b2dac4",
   "metadata": {},
   "outputs": [],
   "source": [
    "def process_path(file_path):\n",
    "    label = get_label(file_path)\n",
    "    img = load_image(file_path)\n",
    "    return img, label"
   ]
  },
  {
   "cell_type": "code",
   "execution_count": null,
   "id": "e470b28c",
   "metadata": {},
   "outputs": [],
   "source": [
    "train_ds = train_ds.map(process_path_train, num_parallel_calls=tf.data.AUTOTUNE) \n",
    "val_ds = val_ds.map(process_path, num_parallel_calls=tf.data.AUTOTUNE)\n",
    "test_ds = test_ds.map(process_path, num_parallel_calls=tf.data.AUTOTUNE)"
   ]
  },
  {
   "cell_type": "code",
   "execution_count": null,
   "id": "29c36c3e",
   "metadata": {
    "scrolled": true
   },
   "outputs": [],
   "source": [
    "img_augmentation = Sequential(\n",
    "    [tf.keras.layers.experimental.preprocessing.RandomZoom(height_factor=(-0.1, 0.1), fill_mode=\"constant\"),   \n",
    "     tf.keras.layers.experimental.preprocessing.RandomFlip(mode=\"horizontal\"),\n",
    "     tf.keras.layers.experimental.preprocessing.RandomTranslation(height_factor=(-0.05, 0.05), width_factor=(-0.05, 0.05), fill_mode=\"constant\"),\n",
    "     tf.keras.layers.experimental.preprocessing.RandomRotation(factor=(-0.05, 0.05), fill_mode=\"constant\")\n",
    "    ],\n",
    "    name=\"img_augmentation\")"
   ]
  },
  {
   "cell_type": "code",
   "execution_count": null,
   "id": "cb8fd74f",
   "metadata": {},
   "outputs": [],
   "source": [
    "batch_size = 40\n",
    "\n",
    "def configure_for_performance(ds):\n",
    "    if chosen==\"B0\":\n",
    "        ds = ds.cache() \n",
    "    ds = ds.shuffle(buffer_size=1000) \n",
    "    ds = ds.batch(batch_size, drop_remainder=True)\n",
    "    ds = ds.prefetch(buffer_size=tf.data.AUTOTUNE)\n",
    "    return ds\n",
    "\n",
    "train_ds = configure_for_performance(train_ds)\n",
    "val_ds = configure_for_performance(val_ds)\n",
    "test_ds = configure_for_performance(test_ds)"
   ]
  },
  {
   "cell_type": "code",
   "execution_count": null,
   "id": "9f8bc03a",
   "metadata": {},
   "outputs": [],
   "source": [
    "from tensorflow.keras.applications import EfficientNetB5"
   ]
  },
  {
   "cell_type": "code",
   "execution_count": null,
   "id": "3ab085ae",
   "metadata": {},
   "outputs": [],
   "source": [
    "cos_decay_ann = tf.keras.experimental.CosineDecayRestarts(initial_learning_rate=0.01, first_decay_steps=30, t_mul=2, m_mul=0.95, alpha=0.01)"
   ]
  },
  {
   "cell_type": "code",
   "execution_count": null,
   "id": "d73b109d",
   "metadata": {},
   "outputs": [],
   "source": [
    "os.chdir(\"/home/hk/Research/CXRage/result/%d/\"%(date))"
   ]
  },
  {
   "cell_type": "code",
   "execution_count": null,
   "id": "92be95b3",
   "metadata": {},
   "outputs": [],
   "source": [
    "def build_model():\n",
    "    inputs = layers.Input(shape=(imagesize, imagesize, 3))\n",
    "    x = img_augmentation(inputs)\n",
    "    model = EfficientNetB5(include_top=False, input_tensor=x, weights=\"imagenet\")\n",
    "\n",
    "    # Freeze the pretrained weights\n",
    "    model.trainable = False\n",
    "\n",
    "    # Rebuild top\n",
    "    x = layers.GlobalAveragePooling2D(name=\"avg_pool\")(model.output)\n",
    "    x = layers.BatchNormalization()(x)\n",
    "    \n",
    "    droprate=0.3\n",
    "\n",
    "    x = layers.Dropout(droprate, name=\"dropout1\")(x)\n",
    "    x = layers.Dense(256, kernel_initializer='he_normal', activation=\"relu\")(x)   \n",
    "    \n",
    "    x = layers.Dropout(droprate, name=\"dropout2\")(x)\n",
    "    x = layers.Dense(128, kernel_initializer='he_normal', activation=\"relu\")(x)  \n",
    "    \n",
    "    x = layers.Dropout(droprate, name=\"dropout3\")(x)\n",
    "    x = layers.Dense(64, kernel_initializer='he_normal', activation=\"relu\")(x)  \n",
    "    \n",
    "    x = layers.Dropout(droprate, name=\"dropout4\")(x)\n",
    "    outputs = layers.Dense(1, kernel_initializer='zeros', bias_initializer='zeros', activation=\"linear\", name=\"pred\")(x)\n",
    "\n",
    "    # Compile\n",
    "    model = tf.keras.Model(inputs, outputs, name=\"EfficientNet\")\n",
    "    model.compile(optimizer=keras.optimizers.SGD(learning_rate=cos_decay_ann),\n",
    "                  loss=\"mse\", metrics=['mae', 'mse'])\n",
    "    return model"
   ]
  },
  {
   "cell_type": "code",
   "execution_count": null,
   "id": "be813cf9",
   "metadata": {},
   "outputs": [],
   "source": [
    "early_stopping = keras.callbacks.EarlyStopping(monitor='val_loss', patience=40, min_delta= 0.0001) \n",
    "csv_logger = keras.callbacks.CSVLogger('./Model log.csv', append=False, separator=';')\n",
    "checkpointer = keras.callbacks.ModelCheckpoint(filepath='/home/hk/Research/CXRage/result/%d/bestmodel'%(date), \n",
    "                                               verbose=1, \n",
    "                                               save_best_only=True, monitor='val_mae', mode='min')"
   ]
  },
  {
   "cell_type": "code",
   "execution_count": null,
   "id": "6471b506",
   "metadata": {},
   "outputs": [],
   "source": [
    "mirrored_strategy = tf.distribute.MirroredStrategy()"
   ]
  },
  {
   "cell_type": "code",
   "execution_count": null,
   "id": "6eed354e",
   "metadata": {
    "scrolled": true
   },
   "outputs": [],
   "source": [
    "epochs = 1000\n",
    "with mirrored_strategy.scope():\n",
    "    model = build_model()     \n",
    "hist = model.fit(train_ds, epochs=epochs, validation_data=val_ds, \n",
    "                 callbacks=[early_stopping, csv_logger, checkpointer],\n",
    "                 verbose=1) "
   ]
  },
  {
   "cell_type": "code",
   "execution_count": null,
   "id": "09115549",
   "metadata": {},
   "outputs": [],
   "source": [
    "model.save('/home/hk/Research/CXRage/result/%d/finalmodel'%(date))\n",
    "model.save('CXRage%d.h5'%(date))"
   ]
  },
  {
   "cell_type": "code",
   "execution_count": null,
   "id": "3c48cf17",
   "metadata": {},
   "outputs": [],
   "source": [
    "hist1 = pd.DataFrame(hist.history)\n",
    "hist1['epoch'] = hist.epoch\n",
    "hist1.to_csv('history.csv', index=False, header=True)"
   ]
  },
  {
   "cell_type": "code",
   "execution_count": null,
   "id": "587a7af6",
   "metadata": {},
   "outputs": [],
   "source": [
    "tf.keras.backend.clear_session()"
   ]
  },
  {
   "cell_type": "code",
   "execution_count": null,
   "id": "d2960e70",
   "metadata": {},
   "outputs": [],
   "source": [
    "################################# Full fine-tuning #################################"
   ]
  },
  {
   "cell_type": "code",
   "execution_count": null,
   "id": "8cc7d8ea",
   "metadata": {},
   "outputs": [],
   "source": [
    "def unfreeze_model(model):\n",
    "    for layer in model.layers:\n",
    "        if not isinstance(layer, layers.BatchNormalization):\n",
    "            layer.trainable = True"
   ]
  },
  {
   "cell_type": "code",
   "execution_count": null,
   "id": "fe6c17c2",
   "metadata": {},
   "outputs": [],
   "source": [
    "cos_decay_ann = tf.keras.experimental.CosineDecayRestarts(initial_learning_rate=0.001, first_decay_steps=40, t_mul=2, m_mul=0.95, alpha=0.01)"
   ]
  },
  {
   "cell_type": "code",
   "execution_count": null,
   "id": "94bd6075",
   "metadata": {},
   "outputs": [],
   "source": [
    "os.chdir(\"/home/hk/Research/CXRage/result/%d/FFT\"%(date))"
   ]
  },
  {
   "cell_type": "code",
   "execution_count": null,
   "id": "430c0d05",
   "metadata": {},
   "outputs": [],
   "source": [
    "early_stopping = keras.callbacks.EarlyStopping(monitor='val_loss', patience=40, min_delta= 0.0001) \n",
    "csv_logger = keras.callbacks.CSVLogger('./Model log.csv', append=False, separator=';')\n",
    "checkpointer = keras.callbacks.ModelCheckpoint(filepath='/home/hk/Research/CXRage/result/%d/FFT/bestmodel'%(date), \n",
    "                                               verbose=1, \n",
    "                                               save_best_only=True, monitor='val_mae', mode='min')"
   ]
  },
  {
   "cell_type": "code",
   "execution_count": null,
   "id": "32d07413",
   "metadata": {
    "scrolled": false
   },
   "outputs": [],
   "source": [
    "epochs = 1000\n",
    "with mirrored_strategy.scope(): \n",
    "    unfreeze_model(model)    \n",
    "    model.compile(optimizer=keras.optimizers.SGD(learning_rate=cos_decay_ann),\n",
    "                   loss=\"mse\", metrics=['mae', 'mse']) "
   ]
  },
  {
   "cell_type": "code",
   "execution_count": null,
   "id": "9fa5268f",
   "metadata": {
    "scrolled": true
   },
   "outputs": [],
   "source": [
    "hist = model.fit(train_ds, epochs=epochs, validation_data=val_ds, \n",
    "                  callbacks=[early_stopping, csv_logger, checkpointer],\n",
    "                  verbose=1) "
   ]
  },
  {
   "cell_type": "code",
   "execution_count": null,
   "id": "dea5aefb",
   "metadata": {},
   "outputs": [],
   "source": [
    "model.save('/home/hk/Research/CXRage/result/%d/FFT/finalmodel'%(date))\n",
    "model.save('CXRage%dFFT.h5'%(date))"
   ]
  },
  {
   "cell_type": "code",
   "execution_count": null,
   "id": "6c52692f",
   "metadata": {},
   "outputs": [],
   "source": [
    "hist1 = pd.DataFrame(hist.history)\n",
    "hist1['epoch'] = hist.epoch\n",
    "hist1.to_csv('history.csv', index=False, header=True)"
   ]
  }
 ],
 "metadata": {
  "kernelspec": {
   "display_name": "Python 3 (ipykernel)",
   "language": "python",
   "name": "python3"
  },
  "language_info": {
   "codemirror_mode": {
    "name": "ipython",
    "version": 3
   },
   "file_extension": ".py",
   "mimetype": "text/x-python",
   "name": "python",
   "nbconvert_exporter": "python",
   "pygments_lexer": "ipython3",
   "version": "3.8.10"
  }
 },
 "nbformat": 4,
 "nbformat_minor": 5
}
